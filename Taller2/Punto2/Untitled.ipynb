{
 "cells": [
  {
   "cell_type": "code",
   "execution_count": 12,
   "metadata": {},
   "outputs": [],
   "source": [
    "import numpy as np"
   ]
  },
  {
   "cell_type": "code",
   "execution_count": 22,
   "metadata": {},
   "outputs": [],
   "source": [
    "Y0   = [0 for i in range(10)]\n",
    "X0   = [62,66,71,76,81,86,91,95,100,105]\n",
    "Y100 = [100 for i in range(10)]\n",
    "X100 = [103,108,113,117,122,127,132,136,142,149]"
   ]
  },
  {
   "cell_type": "code",
   "execution_count": 24,
   "metadata": {},
   "outputs": [],
   "source": [
    "def pendiente(Xi,Yi,Xf,Yf):\n",
    "    M = []\n",
    "    for i in range(len(Xi)):\n",
    "        xi = Xi[i]\n",
    "        yi = Yi[i]\n",
    "        xf = Xf[i]\n",
    "        yf = Yf[i]\n",
    "        m = (xf-xi)/(yf-yi)\n",
    "        M.append(m)\n",
    "    return M\n",
    "def angle(List): \n",
    "    return [np.arctan(element) for element in List]"
   ]
  },
  {
   "cell_type": "code",
   "execution_count": 25,
   "metadata": {},
   "outputs": [
    {
     "name": "stdout",
     "output_type": "stream",
     "text": [
      "[0.41, 0.42, 0.42, 0.41, 0.41, 0.41, 0.41, 0.41, 0.42, 0.44]\n"
     ]
    },
    {
     "data": {
      "text/plain": [
       "[0.3890972310552784,\n",
       " 0.3976279915221293,\n",
       " 0.3976279915221293,\n",
       " 0.3890972310552784,\n",
       " 0.3890972310552784,\n",
       " 0.3890972310552784,\n",
       " 0.3890972310552784,\n",
       " 0.3890972310552784,\n",
       " 0.3976279915221293,\n",
       " 0.41450687458478597]"
      ]
     },
     "execution_count": 25,
     "metadata": {},
     "output_type": "execute_result"
    }
   ],
   "source": [
    "M = pendiente(X0,Y0,X100,Y100)\n",
    "print(M)\n",
    "angle (M)"
   ]
  },
  {
   "cell_type": "code",
   "execution_count": 19,
   "metadata": {},
   "outputs": [],
   "source": [
    "def calculated_angle(n1,n2,theta1):\n",
    "    Theta1 = np.deg2rad(theta1)\n",
    "    snell = n1*np.sin(Theta1)/n2\n",
    "    theta2 = np.arcsin(snell)\n",
    "    return theta2"
   ]
  },
  {
   "cell_type": "code",
   "execution_count": 26,
   "metadata": {},
   "outputs": [
    {
     "data": {
      "text/plain": [
       "0.17185475131873926"
      ]
     },
     "execution_count": 26,
     "metadata": {},
     "output_type": "execute_result"
    }
   ],
   "source": [
    "calculated_angle(1,2,20)"
   ]
  }
 ],
 "metadata": {
  "kernelspec": {
   "display_name": "Python 3",
   "language": "python",
   "name": "python3"
  },
  "language_info": {
   "codemirror_mode": {
    "name": "ipython",
    "version": 3
   },
   "file_extension": ".py",
   "mimetype": "text/x-python",
   "name": "python",
   "nbconvert_exporter": "python",
   "pygments_lexer": "ipython3",
   "version": "3.8.10"
  }
 },
 "nbformat": 4,
 "nbformat_minor": 4
}
